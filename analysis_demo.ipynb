{
  "cells": [
    {
      "cell_type": "markdown",
      "metadata": {},
      "source": [
        "# Bluesky Social Justice Data Analysis\n",
        "## DFP F25 Social Media Blue Team\n",
        "\n",
        "This notebook demonstrates how to analyze collected social justice data from Bluesky.\n",
        "\n",
        "### Prerequisites:\n",
        "1. Run data collection: `python main.py`\n",
        "2. Install requirements: `pip install -r requirements.txt`\n"
      ]
    },
    {
      "cell_type": "markdown",
      "metadata": {},
      "source": [
        "## 1. Setup and Data Loading\n"
      ]
    },
    {
      "cell_type": "code",
      "execution_count": null,
      "metadata": {},
      "outputs": [],
      "source": [
        "import pandas as pd\n",
        "import matplotlib.pyplot as plt\n",
        "import seaborn as sns\n",
        "from pathlib import Path\n",
        "import json\n",
        "\n",
        "# Load most recent data\n",
        "data_dir = Path(\"data/alltime_socmed\")\n",
        "csv_files = list(data_dir.glob(\"socmed_*.csv\"))\n",
        "\n",
        "if csv_files:\n",
        "    latest_file = max(csv_files, key=lambda x: x.stat().st_mtime)\n",
        "    df = pd.read_csv(latest_file)\n",
        "    print(f\"✅ Loaded {len(df)} posts from {latest_file.name}\")\n",
        "else:\n",
        "    print(\"❌ No data found. Run: python main.py\")\n",
        "    df = None\n"
      ]
    },
    {
      "cell_type": "markdown",
      "metadata": {},
      "source": [
        "## 2. Basic Data Overview\n"
      ]
    },
    {
      "cell_type": "code",
      "execution_count": null,
      "metadata": {},
      "outputs": [],
      "source": [
        "if df is not None:\n",
        "    print(\"📊 Data Overview:\")\n",
        "    print(f\"  Total posts: {len(df)}\")\n",
        "    print(f\"  Posts with location: {df['has_location_data'].sum()} ({df['has_location_data'].mean()*100:.1f}%)\")\n",
        "    print(f\"  Posts with keywords: {df['has_keyword_matches'].sum()} ({df['has_keyword_matches'].mean()*100:.1f}%)\")\n",
        "    print(f\"  Average text length: {df['text_length'].mean():.1f} characters\")\n",
        "    \n",
        "    # Show sample post\n",
        "    if len(df) > 0:\n",
        "        sample = df.iloc[0]\n",
        "        print(f\"\\n📝 Sample Post:\")\n",
        "        print(f\"  Text: {sample['text'][:100]}...\")\n",
        "        print(f\"  Author: @{sample['author_handle']}\")\n",
        "        print(f\"  Location: {sample.get('detected_location', 'None')}\")\n",
        "        print(f\"  Keywords: {sample.get('keyword_matches', [])[:3]}\")\n"
      ]
    },
    {
      "cell_type": "markdown",
      "metadata": {},
      "source": [
        "## 3. Run New Data Collection\n"
      ]
    },
    {
      "cell_type": "code",
      "execution_count": null,
      "metadata": {},
      "outputs": [],
      "source": [
        "print(\"🚀 To collect new data, run one of these commands:\")\n",
        "print()\n",
        "print(\"# Basic 15-minute collection:\")\n",
        "print(\"python main.py\")\n",
        "print()\n",
        "print(\"# 30-minute collection with all keywords:\")\n",
        "print(\"python main.py --duration 30 --keywords all\")\n",
        "print()\n",
        "print(\"# Custom keywords from file:\")\n",
        "print(\"python main.py --keywords custom --duration 45\")\n",
        "print()\n",
        "print(\"# Long collection with sleep prevention:\")\n",
        "print(\"python main.py --duration 120 --keywords all --no-sleep\")\n",
        "print()\n",
        "print(\"📁 Data will be saved to: data/alltime_socmed/\")\n",
        "print(\"📊 Then re-run this notebook to analyze the new data!\")\n"
      ]
    }
  ],
  "metadata": {
    "language_info": {
      "name": "python"
    }
  },
  "nbformat": 4,
  "nbformat_minor": 2
}
