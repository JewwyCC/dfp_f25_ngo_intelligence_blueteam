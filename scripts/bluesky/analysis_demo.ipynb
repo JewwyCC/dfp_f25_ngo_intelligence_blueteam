{
  "cells": [
    {
      "cell_type": "markdown",
      "metadata": {},
      "source": [
        "# Bluesky Homelessness Data Analysis\n",
        "## DFP F25 Social Media Blue Team\n",
        "\n",
        "This notebook demonstrates how to analyze collected homelessness data from Bluesky and generate comprehensive EDA reports.\n",
        "\n",
        "### Prerequisites:\n",
        "1. Run data collection: `python main.py` or `python demo.py`\n",
        "2. Install requirements: `pip install -r requirements.txt`\n",
        "3. Generate EDA report: `python improved_eda.py`\n"
      ]
    },
    {
      "cell_type": "markdown",
      "metadata": {},
      "source": [
        "## 1. Setup and Data Loading\n"
      ]
    },
    {
      "cell_type": "code",
      "execution_count": null,
      "metadata": {},
      "outputs": [],
      "source": [
        "import pandas as pd\n",
        "import matplotlib.pyplot as plt\n",
        "import seaborn as sns\n",
        "from pathlib import Path\n",
        "import json\n",
        "\n",
        "# Load most recent data\n",
        "data_dir = Path(\"data/alltime_socmed\")\n",
        "csv_files = list(data_dir.glob(\"*.csv\"))\n",
        "\n",
        "if csv_files:\n",
        "    latest_file = max(csv_files, key=lambda x: x.stat().st_mtime)\n",
        "    df = pd.read_csv(latest_file)\n",
        "    print(f\"✅ Loaded {len(df)} posts from {latest_file.name}\")\n",
        "else:\n",
        "    print(\"❌ No data found. Run: python main.py\")\n",
        "    df = None\n"
      ]
    },
    {
      "cell_type": "markdown",
      "metadata": {},
      "source": [
        "## 2. Basic Data Overview\n"
      ]
    },
    {
      "cell_type": "code",
      "execution_count": null,
      "metadata": {},
      "outputs": [],
      "source": [
        "if df is not None:\n",
        "    print(\"📊 Data Overview:\")\n",
        "    print(f\"  Total posts: {len(df)}\")\n",
        "    print(f\"  Unique authors: {df['author_handle'].nunique()}\")\n",
        "    print(f\"  Average text length: {df['text'].str.len().mean():.1f} characters\")\n",
        "    print(f\"  Average word count: {df['text'].str.split().str.len().mean():.1f} words\")\n",
        "    print(f\"  Posts with media: {(df.get('has_images', False) | df.get('has_media', False)).sum()}\")\n",
        "    print(f\"  Average likes: {df.get('like_count', 0).mean():.1f}\")\n",
        "    print(f\"  Average reposts: {df.get('repost_count', 0).mean():.1f}\")\n",
        "    \n",
        "    # Show sample post\n",
        "    if len(df) > 0:\n",
        "        sample = df.iloc[0]\n",
        "        print(f\"\\n📝 Sample Post:\")\n",
        "        print(f\"  Text: {sample['text'][:100]}...\")\n",
        "        print(f\"  Author: @{sample['author_handle']}\")\n",
        "        print(f\"  Likes: {sample.get('like_count', 0)}\")\n",
        "        print(f\"  Reposts: {sample.get('repost_count', 0)}\")\n",
        "        print(f\"  Created: {sample.get('created_at', 'Unknown')}\")\n"
      ]
    },
    {
      "cell_type": "markdown",
      "metadata": {},
      "source": [
        "## 3. Generate EDA Report\n"
      ]
    },
    {
      "cell_type": "code",
      "execution_count": null,
      "metadata": {},
      "outputs": [],
      "source": [
        "print(\"📊 Generate comprehensive EDA report:\")\n",
        "print()\n",
        "print(\"# Generate full EDA analysis:\")\n",
        "print(\"python improved_eda.py\")\n",
        "print()\n",
        "print(\"📁 This will create: improved_eda_report.html\")\n",
        "print(\"🌐 Open the HTML file in your browser to view the analysis!\")\n",
        "print()\n",
        "print(\"📈 The report includes:\")\n",
        "print(\"  • Key metrics and statistics\")\n",
        "print(\"  • Keywords searched\")\n",
        "print(\"  • Geographic distribution (word cloud + world map)\")\n",
        "print(\"  • Content analysis and word clouds\")\n",
        "print(\"  • Engagement analysis\")\n",
        "print(\"  • Author analysis\")\n",
        "print(\"  • Top posts feeds with clickable links\")\n"
      ]
    },
    {
      "cell_type": "markdown",
      "metadata": {},
      "source": [
        "## 4. Data Collection Commands\n"
      ]
    },
    {
      "cell_type": "code",
      "execution_count": null,
      "metadata": {},
      "outputs": [],
      "source": [
        "print(\"🚀 To collect new data, run one of these commands:\")\n",
        "print()\n",
        "print(\"# Interactive demo (recommended):\")\n",
        "print(\"python demo.py\")\n",
        "print()\n",
        "print(\"# Direct commands:\")\n",
        "print(\"python main.py --duration 60 --keywords homelessness  # 1 minute test\")\n",
        "print(\"python main.py --duration 300 --keywords all          # 5 minutes\")\n",
        "print(\"python main.py --duration 900 --keywords all          # 15 minutes\")\n",
        "print()\n",
        "print(\"# Merge all session data:\")\n",
        "print(\"python main.py --merge-data\")\n",
        "print()\n",
        "print(\"📁 Data will be saved to: data/alltime_socmed/\")\n",
        "print(\"📊 Then re-run this notebook to analyze the new data!\")\n"
      ]
    }
  ],
  "metadata": {
    "language_info": {
      "name": "python"
    }
  },
  "nbformat": 4,
  "nbformat_minor": 2
}
